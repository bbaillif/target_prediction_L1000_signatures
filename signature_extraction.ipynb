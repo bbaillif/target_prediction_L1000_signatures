{
 "cells": [
  {
   "cell_type": "markdown",
   "metadata": {},
   "source": [
    "**Author:** Benoît BAILLIF\n",
    "\n",
    "**Purpose:** Extract used signatures from gctx files from the 2 GEO datasets \n",
    "\n",
    "**Input:**\n",
    "- data/raw/\n",
    " - GSE92742_Broad_LINCS_Level5_COMPZ.MODZ_n473647x12328.gctx\n",
    " - GSE70138_Broad_LINCS_Level5_COMPZ_n118050x12328_2017-03-06.gctx\n",
    " - GSE92742_Broad_LINCS_gene_info.txt : to find gene ids and which genes are landmarks\n",
    "- data/processed/\n",
    " - sig_info_cmap : signature metadata\n",
    " - cmp_info_cmap : to find used compounds\n",
    " \n",
    "**Output:** \n",
    "- data/signatures/\n",
    " - one folder per cell line"
   ]
  },
  {
   "cell_type": "code",
   "execution_count": 1,
   "metadata": {},
   "outputs": [],
   "source": [
    "import os\n",
    "import pandas as pd\n",
    "from cmapPy.pandasGEXpress.parse import parse\n",
    "from cmapPy.pandasGEXpress       import concat"
   ]
  },
  {
   "cell_type": "markdown",
   "metadata": {},
   "source": [
    "# Input"
   ]
  },
  {
   "cell_type": "code",
   "execution_count": 9,
   "metadata": {},
   "outputs": [],
   "source": [
    "raw_data_directory = 'data/raw/'\n",
    "processed_data_directory = 'data/processed/'\n",
    "\n",
    "sig_info_file_name = 'sig_info_cmap.csv'\n",
    "sig_info_path = processed_data_directory + sig_info_file_name\n",
    "\n",
    "cmp_info_file_name = 'cmp_info_cmap.csv'\n",
    "cmp_info_path = processed_data_directory + cmp_info_file_name\n",
    "\n",
    "GSE92742_gctx_file_name = 'GSE92742_Broad_LINCS_Level5_COMPZ.MODZ_n473647x12328.gctx'\n",
    "GSE92742_gctx_path = raw_data_directory + GSE92742_gctx_file_name\n",
    "\n",
    "GSE70138_gctx_file_name = 'GSE70138_Broad_LINCS_Level5_COMPZ_n118050x12328_2017-03-06.gctx'\n",
    "GSE70138_gctx_path = raw_data_directory + GSE70138_gctx_file_name\n",
    "\n",
    "gene_file_name = 'GSE92742_Broad_LINCS_gene_info.txt'\n",
    "gene_path = raw_data_directory + gene_file_name"
   ]
  },
  {
   "cell_type": "markdown",
   "metadata": {},
   "source": [
    "# Output"
   ]
  },
  {
   "cell_type": "code",
   "execution_count": 3,
   "metadata": {},
   "outputs": [],
   "source": [
    "sig_directory = 'data/processed/signatures/'\n",
    "if not os.path.exists(sig_directory) :\n",
    "    os.makedirs(sig_directory)"
   ]
  },
  {
   "cell_type": "markdown",
   "metadata": {},
   "source": [
    "# Main"
   ]
  },
  {
   "cell_type": "code",
   "execution_count": 10,
   "metadata": {},
   "outputs": [],
   "source": [
    "def get_signature_gctoo(sig_id_geo, gene_ids_list, GSE92742_gctx_path, GSE70138_gctx_path) :\n",
    "    \"\"\"Fetch gene expression signatures GES for the given sig_ids and gene_ids.\n",
    "    \n",
    "    Gene expression signatures are stored on the server, in 2 gctx files.\n",
    "    \n",
    "    Args:\n",
    "        sig_info (pd.Series) : signature information Series having\n",
    "            index = sig_id : signature ID\n",
    "            name = GEO : GEO origin of the signature (GSE92742 or GSE70138)\n",
    "        gene_ids_list (list of str) : list of gene_ids_list to consider when fetching the GE\n",
    "        GSE92742_gctx_path (str) : path to the GSE92742 gctx file\n",
    "        GSE70138_gctx_path (str) : path to the GSE70138 gctx file\n",
    "        \n",
    "    Returns:\n",
    "        gctoo : gene expression signatures corresponding to the given sig_ids\n",
    "        \n",
    "    \"\"\"\n",
    "    \n",
    "    # str cast because it is the data type used by the parse function later for cid\n",
    "    GSE92742_sig_ids = sig_id_geo[sig_id_geo == 'GSE92742'].index.astype(str)\n",
    "    GSE70138_sig_ids = sig_id_geo[sig_id_geo == 'GSE70138'].index.astype(str)\n",
    "    \n",
    "    empty_GSE92742 = (len(GSE92742_sig_ids) == 0)\n",
    "    empty_GSE70138 = (len(GSE70138_sig_ids) == 0)\n",
    "    \n",
    "    if (not empty_GSE92742) :\n",
    "        GSE92742_sig_landmark = parse(GSE92742_gctx_path, rid=gene_ids_list, cid=GSE92742_sig_ids)\n",
    "    if (not empty_GSE70138) :\n",
    "        GSE70138_sig_landmark = parse(GSE70138_gctx_path, rid=gene_ids_list, cid=GSE70138_sig_ids)\n",
    "        \n",
    "    if (empty_GSE92742 & empty_GSE70138) :\n",
    "        cell_line_gctoo = None\n",
    "    elif (empty_GSE92742) :\n",
    "        cell_line_gctoo = GSE70138_sig_landmark\n",
    "    elif (empty_GSE70138) :\n",
    "        cell_line_gctoo = GSE92742_sig_landmark\n",
    "    else :\n",
    "        cell_line_gctoo = concat.hstack([GSE92742_sig_landmark,GSE70138_sig_landmark])\n",
    "        \n",
    "    return(cell_line_gctoo)"
   ]
  },
  {
   "cell_type": "markdown",
   "metadata": {},
   "source": [
    "## Load data and preview table"
   ]
  },
  {
   "cell_type": "code",
   "execution_count": 11,
   "metadata": {},
   "outputs": [],
   "source": [
    "# The 8 selected cell_lines\n",
    "cell_lines = ['MCF7', 'HA1E', 'HT29', 'A549', 'HCC515', 'PC3', 'VCAP', 'A375']"
   ]
  },
  {
   "cell_type": "code",
   "execution_count": 12,
   "metadata": {},
   "outputs": [],
   "source": [
    "sig_info_cmap = pd.read_csv(sig_info_path)\n",
    "sig_info_cmap = sig_info_cmap.set_index('sig_id')"
   ]
  },
  {
   "cell_type": "code",
   "execution_count": 13,
   "metadata": {},
   "outputs": [
    {
     "name": "stdout",
     "output_type": "stream",
     "text": [
      "(310114, 7)\n"
     ]
    },
    {
     "data": {
      "text/html": [
       "<div>\n",
       "<style scoped>\n",
       "    .dataframe tbody tr th:only-of-type {\n",
       "        vertical-align: middle;\n",
       "    }\n",
       "\n",
       "    .dataframe tbody tr th {\n",
       "        vertical-align: top;\n",
       "    }\n",
       "\n",
       "    .dataframe thead th {\n",
       "        text-align: right;\n",
       "    }\n",
       "</style>\n",
       "<table border=\"1\" class=\"dataframe\">\n",
       "  <thead>\n",
       "    <tr style=\"text-align: right;\">\n",
       "      <th></th>\n",
       "      <th>pert_id</th>\n",
       "      <th>pert_iname</th>\n",
       "      <th>cell_id</th>\n",
       "      <th>pert_idose (µM)</th>\n",
       "      <th>pert_itime (h)</th>\n",
       "      <th>distil_id</th>\n",
       "      <th>GEO</th>\n",
       "    </tr>\n",
       "    <tr>\n",
       "      <th>sig_id</th>\n",
       "      <th></th>\n",
       "      <th></th>\n",
       "      <th></th>\n",
       "      <th></th>\n",
       "      <th></th>\n",
       "      <th></th>\n",
       "      <th></th>\n",
       "    </tr>\n",
       "  </thead>\n",
       "  <tbody>\n",
       "    <tr>\n",
       "      <th>AML001_CD34_24H:BRD-A03772856:0.37037</th>\n",
       "      <td>BRD-A03772856</td>\n",
       "      <td>BRD-A03772856</td>\n",
       "      <td>CD34</td>\n",
       "      <td>0.5</td>\n",
       "      <td>24</td>\n",
       "      <td>AML001_CD34_24H_X1_F1B10:J04|AML001_CD34_24H_X...</td>\n",
       "      <td>GSE92742</td>\n",
       "    </tr>\n",
       "    <tr>\n",
       "      <th>AML001_CD34_24H:BRD-A03772856:1.11111</th>\n",
       "      <td>BRD-A03772856</td>\n",
       "      <td>BRD-A03772856</td>\n",
       "      <td>CD34</td>\n",
       "      <td>1.0</td>\n",
       "      <td>24</td>\n",
       "      <td>AML001_CD34_24H_X1_F1B10:J03|AML001_CD34_24H_X...</td>\n",
       "      <td>GSE92742</td>\n",
       "    </tr>\n",
       "    <tr>\n",
       "      <th>AML001_CD34_24H:BRD-A03772856:10</th>\n",
       "      <td>BRD-A03772856</td>\n",
       "      <td>BRD-A03772856</td>\n",
       "      <td>CD34</td>\n",
       "      <td>10.0</td>\n",
       "      <td>24</td>\n",
       "      <td>AML001_CD34_24H_X1_F1B10:I03|AML001_CD34_24H_X...</td>\n",
       "      <td>GSE92742</td>\n",
       "    </tr>\n",
       "    <tr>\n",
       "      <th>AML001_CD34_24H:BRD-A03772856:3.33333</th>\n",
       "      <td>BRD-A03772856</td>\n",
       "      <td>BRD-A03772856</td>\n",
       "      <td>CD34</td>\n",
       "      <td>3.0</td>\n",
       "      <td>24</td>\n",
       "      <td>AML001_CD34_24H_X1_F1B10:I04|AML001_CD34_24H_X...</td>\n",
       "      <td>GSE92742</td>\n",
       "    </tr>\n",
       "    <tr>\n",
       "      <th>AML001_CD34_24H:BRD-A19037878:1.11111</th>\n",
       "      <td>BRD-A19037878</td>\n",
       "      <td>trichostatin-a</td>\n",
       "      <td>CD34</td>\n",
       "      <td>1.0</td>\n",
       "      <td>24</td>\n",
       "      <td>AML001_CD34_24H_X1_F1B10:F05|AML001_CD34_24H_X...</td>\n",
       "      <td>GSE92742</td>\n",
       "    </tr>\n",
       "  </tbody>\n",
       "</table>\n",
       "</div>"
      ],
      "text/plain": [
       "                                             pert_id      pert_iname cell_id  \\\n",
       "sig_id                                                                         \n",
       "AML001_CD34_24H:BRD-A03772856:0.37037  BRD-A03772856   BRD-A03772856    CD34   \n",
       "AML001_CD34_24H:BRD-A03772856:1.11111  BRD-A03772856   BRD-A03772856    CD34   \n",
       "AML001_CD34_24H:BRD-A03772856:10       BRD-A03772856   BRD-A03772856    CD34   \n",
       "AML001_CD34_24H:BRD-A03772856:3.33333  BRD-A03772856   BRD-A03772856    CD34   \n",
       "AML001_CD34_24H:BRD-A19037878:1.11111  BRD-A19037878  trichostatin-a    CD34   \n",
       "\n",
       "                                       pert_idose (µM)  pert_itime (h)  \\\n",
       "sig_id                                                                   \n",
       "AML001_CD34_24H:BRD-A03772856:0.37037              0.5              24   \n",
       "AML001_CD34_24H:BRD-A03772856:1.11111              1.0              24   \n",
       "AML001_CD34_24H:BRD-A03772856:10                  10.0              24   \n",
       "AML001_CD34_24H:BRD-A03772856:3.33333              3.0              24   \n",
       "AML001_CD34_24H:BRD-A19037878:1.11111              1.0              24   \n",
       "\n",
       "                                                                               distil_id  \\\n",
       "sig_id                                                                                     \n",
       "AML001_CD34_24H:BRD-A03772856:0.37037  AML001_CD34_24H_X1_F1B10:J04|AML001_CD34_24H_X...   \n",
       "AML001_CD34_24H:BRD-A03772856:1.11111  AML001_CD34_24H_X1_F1B10:J03|AML001_CD34_24H_X...   \n",
       "AML001_CD34_24H:BRD-A03772856:10       AML001_CD34_24H_X1_F1B10:I03|AML001_CD34_24H_X...   \n",
       "AML001_CD34_24H:BRD-A03772856:3.33333  AML001_CD34_24H_X1_F1B10:I04|AML001_CD34_24H_X...   \n",
       "AML001_CD34_24H:BRD-A19037878:1.11111  AML001_CD34_24H_X1_F1B10:F05|AML001_CD34_24H_X...   \n",
       "\n",
       "                                            GEO  \n",
       "sig_id                                           \n",
       "AML001_CD34_24H:BRD-A03772856:0.37037  GSE92742  \n",
       "AML001_CD34_24H:BRD-A03772856:1.11111  GSE92742  \n",
       "AML001_CD34_24H:BRD-A03772856:10       GSE92742  \n",
       "AML001_CD34_24H:BRD-A03772856:3.33333  GSE92742  \n",
       "AML001_CD34_24H:BRD-A19037878:1.11111  GSE92742  "
      ]
     },
     "execution_count": 13,
     "metadata": {},
     "output_type": "execute_result"
    }
   ],
   "source": [
    "print(sig_info_cmap.shape)\n",
    "sig_info_cmap.head()"
   ]
  },
  {
   "cell_type": "code",
   "execution_count": 15,
   "metadata": {},
   "outputs": [],
   "source": [
    "cmp_info_cmap = pd.read_csv(cmp_info_path)"
   ]
  },
  {
   "cell_type": "code",
   "execution_count": 16,
   "metadata": {},
   "outputs": [
    {
     "name": "stdout",
     "output_type": "stream",
     "text": [
      "(21220, 7)\n"
     ]
    },
    {
     "data": {
      "text/html": [
       "<div>\n",
       "<style scoped>\n",
       "    .dataframe tbody tr th:only-of-type {\n",
       "        vertical-align: middle;\n",
       "    }\n",
       "\n",
       "    .dataframe tbody tr th {\n",
       "        vertical-align: top;\n",
       "    }\n",
       "\n",
       "    .dataframe thead th {\n",
       "        text-align: right;\n",
       "    }\n",
       "</style>\n",
       "<table border=\"1\" class=\"dataframe\">\n",
       "  <thead>\n",
       "    <tr style=\"text-align: right;\">\n",
       "      <th></th>\n",
       "      <th>pert_id</th>\n",
       "      <th>pert_iname</th>\n",
       "      <th>is_touchstone</th>\n",
       "      <th>inchi_key</th>\n",
       "      <th>canonical_smiles</th>\n",
       "      <th>pubchem_cid</th>\n",
       "      <th>used_compound</th>\n",
       "    </tr>\n",
       "  </thead>\n",
       "  <tbody>\n",
       "    <tr>\n",
       "      <th>0</th>\n",
       "      <td>BRD-A00100033</td>\n",
       "      <td>nifurtimox</td>\n",
       "      <td>1.0</td>\n",
       "      <td>ARFHIAQFJWUCFH-UHFFFAOYSA-N</td>\n",
       "      <td>CC1CS(=O)(=O)CCN1N=Cc1ccc([N+](=O)[O-])o1</td>\n",
       "      <td>6842999.0</td>\n",
       "      <td>1</td>\n",
       "    </tr>\n",
       "    <tr>\n",
       "      <th>1</th>\n",
       "      <td>BRD-A00150179</td>\n",
       "      <td>5-hydroxytryptophan</td>\n",
       "      <td>0.0</td>\n",
       "      <td>QSHLMQDRPXXYEE-UHFFFAOYSA-N</td>\n",
       "      <td>NC(Cc1c[nH]c2cccc(O)c12)C(=O)O</td>\n",
       "      <td>589768.0</td>\n",
       "      <td>0</td>\n",
       "    </tr>\n",
       "    <tr>\n",
       "      <th>2</th>\n",
       "      <td>BRD-A00267231</td>\n",
       "      <td>hemado</td>\n",
       "      <td>1.0</td>\n",
       "      <td>KOCIMZNSNPOGOP-UHFFFAOYSA-N</td>\n",
       "      <td>CCCCC#Cc1nc(NC)c2ncn(C3OC(CO)C(O)C3O)c2n1</td>\n",
       "      <td>4043357.0</td>\n",
       "      <td>1</td>\n",
       "    </tr>\n",
       "    <tr>\n",
       "      <th>3</th>\n",
       "      <td>BRD-A00420644</td>\n",
       "      <td>SA-3676</td>\n",
       "      <td>0.0</td>\n",
       "      <td>ASCBUEVCEVGOFP-UHFFFAOYSA-N</td>\n",
       "      <td>CCN1c2ccccc2NC2N=C(OC)C(c3ccccc3)C21</td>\n",
       "      <td>2853908.0</td>\n",
       "      <td>1</td>\n",
       "    </tr>\n",
       "    <tr>\n",
       "      <th>4</th>\n",
       "      <td>BRD-A00474148</td>\n",
       "      <td>BRD-A00474148</td>\n",
       "      <td>0.0</td>\n",
       "      <td>RCGAUPRLRFZAMS-UHFFFAOYSA-N</td>\n",
       "      <td>O=C1Cc2cc([S+](=O)([O-])N3CCN(c4ccc(O)cc4)CC3)...</td>\n",
       "      <td>44825297.0</td>\n",
       "      <td>1</td>\n",
       "    </tr>\n",
       "  </tbody>\n",
       "</table>\n",
       "</div>"
      ],
      "text/plain": [
       "         pert_id           pert_iname  is_touchstone  \\\n",
       "0  BRD-A00100033           nifurtimox            1.0   \n",
       "1  BRD-A00150179  5-hydroxytryptophan            0.0   \n",
       "2  BRD-A00267231               hemado            1.0   \n",
       "3  BRD-A00420644              SA-3676            0.0   \n",
       "4  BRD-A00474148        BRD-A00474148            0.0   \n",
       "\n",
       "                     inchi_key  \\\n",
       "0  ARFHIAQFJWUCFH-UHFFFAOYSA-N   \n",
       "1  QSHLMQDRPXXYEE-UHFFFAOYSA-N   \n",
       "2  KOCIMZNSNPOGOP-UHFFFAOYSA-N   \n",
       "3  ASCBUEVCEVGOFP-UHFFFAOYSA-N   \n",
       "4  RCGAUPRLRFZAMS-UHFFFAOYSA-N   \n",
       "\n",
       "                                    canonical_smiles  pubchem_cid  \\\n",
       "0          CC1CS(=O)(=O)CCN1N=Cc1ccc([N+](=O)[O-])o1    6842999.0   \n",
       "1                     NC(Cc1c[nH]c2cccc(O)c12)C(=O)O     589768.0   \n",
       "2          CCCCC#Cc1nc(NC)c2ncn(C3OC(CO)C(O)C3O)c2n1    4043357.0   \n",
       "3               CCN1c2ccccc2NC2N=C(OC)C(c3ccccc3)C21    2853908.0   \n",
       "4  O=C1Cc2cc([S+](=O)([O-])N3CCN(c4ccc(O)cc4)CC3)...   44825297.0   \n",
       "\n",
       "   used_compound  \n",
       "0              1  \n",
       "1              0  \n",
       "2              1  \n",
       "3              1  \n",
       "4              1  "
      ]
     },
     "execution_count": 16,
     "metadata": {},
     "output_type": "execute_result"
    }
   ],
   "source": [
    "print(cmp_info_cmap.shape)\n",
    "cmp_info_cmap.head()"
   ]
  },
  {
   "cell_type": "markdown",
   "metadata": {},
   "source": [
    "## Extraction"
   ]
  },
  {
   "cell_type": "code",
   "execution_count": 17,
   "metadata": {},
   "outputs": [],
   "source": [
    "genes = pd.read_csv(gene_path, sep=\"\\t\")"
   ]
  },
  {
   "cell_type": "code",
   "execution_count": 18,
   "metadata": {},
   "outputs": [
    {
     "name": "stdout",
     "output_type": "stream",
     "text": [
      "(12328, 5)\n"
     ]
    },
    {
     "data": {
      "text/html": [
       "<div>\n",
       "<style scoped>\n",
       "    .dataframe tbody tr th:only-of-type {\n",
       "        vertical-align: middle;\n",
       "    }\n",
       "\n",
       "    .dataframe tbody tr th {\n",
       "        vertical-align: top;\n",
       "    }\n",
       "\n",
       "    .dataframe thead th {\n",
       "        text-align: right;\n",
       "    }\n",
       "</style>\n",
       "<table border=\"1\" class=\"dataframe\">\n",
       "  <thead>\n",
       "    <tr style=\"text-align: right;\">\n",
       "      <th></th>\n",
       "      <th>pr_gene_id</th>\n",
       "      <th>pr_gene_symbol</th>\n",
       "      <th>pr_gene_title</th>\n",
       "      <th>pr_is_lm</th>\n",
       "      <th>pr_is_bing</th>\n",
       "    </tr>\n",
       "  </thead>\n",
       "  <tbody>\n",
       "    <tr>\n",
       "      <th>0</th>\n",
       "      <td>780</td>\n",
       "      <td>DDR1</td>\n",
       "      <td>discoidin domain receptor tyrosine kinase 1</td>\n",
       "      <td>1</td>\n",
       "      <td>1</td>\n",
       "    </tr>\n",
       "    <tr>\n",
       "      <th>1</th>\n",
       "      <td>7849</td>\n",
       "      <td>PAX8</td>\n",
       "      <td>paired box 8</td>\n",
       "      <td>1</td>\n",
       "      <td>1</td>\n",
       "    </tr>\n",
       "    <tr>\n",
       "      <th>2</th>\n",
       "      <td>2978</td>\n",
       "      <td>GUCA1A</td>\n",
       "      <td>guanylate cyclase activator 1A</td>\n",
       "      <td>0</td>\n",
       "      <td>0</td>\n",
       "    </tr>\n",
       "    <tr>\n",
       "      <th>3</th>\n",
       "      <td>2049</td>\n",
       "      <td>EPHB3</td>\n",
       "      <td>EPH receptor B3</td>\n",
       "      <td>0</td>\n",
       "      <td>1</td>\n",
       "    </tr>\n",
       "    <tr>\n",
       "      <th>4</th>\n",
       "      <td>2101</td>\n",
       "      <td>ESRRA</td>\n",
       "      <td>estrogen related receptor alpha</td>\n",
       "      <td>0</td>\n",
       "      <td>1</td>\n",
       "    </tr>\n",
       "  </tbody>\n",
       "</table>\n",
       "</div>"
      ],
      "text/plain": [
       "   pr_gene_id pr_gene_symbol                                pr_gene_title  \\\n",
       "0         780           DDR1  discoidin domain receptor tyrosine kinase 1   \n",
       "1        7849           PAX8                                 paired box 8   \n",
       "2        2978         GUCA1A               guanylate cyclase activator 1A   \n",
       "3        2049          EPHB3                              EPH receptor B3   \n",
       "4        2101          ESRRA              estrogen related receptor alpha   \n",
       "\n",
       "   pr_is_lm  pr_is_bing  \n",
       "0         1           1  \n",
       "1         1           1  \n",
       "2         0           0  \n",
       "3         0           1  \n",
       "4         0           1  "
      ]
     },
     "execution_count": 18,
     "metadata": {},
     "output_type": "execute_result"
    }
   ],
   "source": [
    "print(genes.shape)\n",
    "genes.head()"
   ]
  },
  {
   "cell_type": "code",
   "execution_count": 19,
   "metadata": {},
   "outputs": [
    {
     "name": "stderr",
     "output_type": "stream",
     "text": [
      "/home/bens/anaconda3/lib/python3.7/site-packages/ipykernel_launcher.py:4: SettingWithCopyWarning: \n",
      "A value is trying to be set on a copy of a slice from a DataFrame.\n",
      "Try using .loc[row_indexer,col_indexer] = value instead\n",
      "\n",
      "See the caveats in the documentation: https://pandas.pydata.org/pandas-docs/stable/user_guide/indexing.html#returning-a-view-versus-a-copy\n",
      "  after removing the cwd from sys.path.\n"
     ]
    }
   ],
   "source": [
    "landmark_genes = genes[genes['pr_is_lm'] == 1]\n",
    "\n",
    "# Gene ID are cast to string, required for signature extraction by cmappy package\n",
    "landmark_genes['pr_gene_id'] = landmark_genes['pr_gene_id'].astype(str)\n",
    "\n",
    "gene_id_to_name = landmark_genes.set_index('pr_gene_id')['pr_gene_symbol']\n",
    "landmark_genes_list = landmark_genes['pr_gene_id'].tolist()"
   ]
  },
  {
   "cell_type": "code",
   "execution_count": 20,
   "metadata": {},
   "outputs": [],
   "source": [
    "# Extract 10 µM / 24 h signatures for each cell line and mean per pert_id\n",
    "\n",
    "dose_is_10um = sig_info_cmap['pert_idose (µM)'] == 10\n",
    "time_is_24h = sig_info_cmap['pert_itime (h)'] == 24\n",
    "sig_info_10um_24h = sig_info_cmap[dose_is_10um & time_is_24h]"
   ]
  },
  {
   "cell_type": "code",
   "execution_count": 21,
   "metadata": {
    "scrolled": true
   },
   "outputs": [
    {
     "name": "stdout",
     "output_type": "stream",
     "text": [
      "MCF7 signatures extraction\n",
      "(10195, 978)\n",
      "(7546, 978)\n",
      "MCF7 done\n",
      "\n",
      "HA1E signatures extraction\n",
      "(4400, 978)\n",
      "(3646, 978)\n",
      "HA1E done\n",
      "\n",
      "HT29 signatures extraction\n",
      "(3605, 978)\n",
      "(3192, 978)\n",
      "HT29 done\n",
      "\n",
      "A549 signatures extraction\n",
      "(6069, 978)\n",
      "(5267, 978)\n",
      "A549 done\n",
      "\n",
      "HCC515 signatures extraction\n",
      "(2098, 978)\n",
      "(1932, 978)\n",
      "HCC515 done\n",
      "\n",
      "PC3 signatures extraction\n",
      "(10314, 978)\n",
      "(8071, 978)\n",
      "PC3 done\n",
      "\n",
      "VCAP signatures extraction\n",
      "(7554, 978)\n",
      "(6365, 978)\n",
      "VCAP done\n",
      "\n",
      "A375 signatures extraction\n",
      "(3962, 978)\n",
      "(3525, 978)\n",
      "A375 done\n",
      "\n"
     ]
    }
   ],
   "source": [
    "for cell_line in cell_lines :\n",
    "\n",
    "    print(cell_line + ' signatures extraction')\n",
    "    \n",
    "    sig_info_cell_10um_24h = sig_info_10um_24h[sig_info_10um_24h['cell_id'] == cell_line]\n",
    "    sig_ids_geo = sig_info_cell_10um_24h['GEO']\n",
    "    cell_line_gctoo = get_signature_gctoo(sig_ids_geo, landmark_genes_list, GSE92742_gctx_path,\n",
    "                                                  GSE70138_gctx_path)\n",
    "\n",
    "    if cell_line_gctoo != None :\n",
    "\n",
    "        # transposed to get cmap instance as rows\n",
    "        cell_line_df = cell_line_gctoo.data_df.transpose()\n",
    "        \n",
    "        # sort columns to have the same order between signatures coming from different cell lines\n",
    "        # later in the workflow\n",
    "        cell_line_df = cell_line_df.reindex(sorted(cell_line_df.columns), axis=1)\n",
    "        \n",
    "        print('Total signatures shape (with multiple signatures per perturbagen): ' + cell_line_df.shape)\n",
    "        \n",
    "        cell_line_df = cell_line_df.rename(gene_id_to_name, axis=1)\n",
    "        cell_line_df = cell_line_df.join(sig_info_cell_10um_24h['pert_id'], how='inner')\n",
    "        cell_line_df_pert_id_meaned = cell_line_df.groupby('pert_id').mean()\n",
    "\n",
    "        print('Total perturbagen meaned signatures: ' + cell_line_df_pert_id_meaned.shape)\n",
    "        \n",
    "        cell_line_df_pert_id_meaned.to_csv(sig_directory + cell_line + '_used_signatures.csv')"
   ]
  }
 ],
 "metadata": {
  "kernelspec": {
   "display_name": "Python 3",
   "language": "python",
   "name": "python3"
  },
  "language_info": {
   "codemirror_mode": {
    "name": "ipython",
    "version": 3
   },
   "file_extension": ".py",
   "mimetype": "text/x-python",
   "name": "python",
   "nbconvert_exporter": "python",
   "pygments_lexer": "ipython3",
   "version": "3.7.6"
  }
 },
 "nbformat": 4,
 "nbformat_minor": 2
}
