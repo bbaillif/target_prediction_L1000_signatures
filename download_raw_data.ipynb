{
 "cells": [
  {
   "cell_type": "markdown",
   "metadata": {},
   "source": [
    "**Author:** Benoît BAILLIF\n",
    "\n",
    "**Purpose:** Download required raw data to perform downstream analysis (visualizations, models...)  \n",
    "\n",
    "**Input:** URL strings corresponding to L1000 signatures metadata (and profiled compounds)  \n",
    "**Output:** Create files in ./data/raw directory"
   ]
  },
  {
   "cell_type": "code",
   "execution_count": 1,
   "metadata": {},
   "outputs": [],
   "source": [
    "import requests\n",
    "import gzip\n",
    "import shutil\n",
    "import os"
   ]
  },
  {
   "cell_type": "code",
   "execution_count": 2,
   "metadata": {},
   "outputs": [],
   "source": [
    "data_directory = './data/'\n",
    "if not os.path.exists(data_directory) :\n",
    "    os.mkdir(data_directory)"
   ]
  },
  {
   "cell_type": "code",
   "execution_count": 3,
   "metadata": {},
   "outputs": [],
   "source": [
    "raw_data_directory = data_directory + 'raw/'\n",
    "if not os.path.exists(raw_data_directory) :\n",
    "    os.mkdir(raw_data_directory)"
   ]
  },
  {
   "cell_type": "code",
   "execution_count": 4,
   "metadata": {},
   "outputs": [],
   "source": [
    "def clean_url(url) :\n",
    "    \"\"\"Replace special characters with their real characters\"\"\"\n",
    "    cleaned_url = url.replace('%5F', '_')\n",
    "    cleaned_url = cleaned_url.replace('%2D', '-')\n",
    "    cleaned_url = cleaned_url.replace('%2E', '.')\n",
    "    return cleaned_url"
   ]
  },
  {
   "cell_type": "code",
   "execution_count": 5,
   "metadata": {},
   "outputs": [],
   "source": [
    "def download_uncompressed_file(raw_url, save_path = 'data/raw/') :\n",
    "    \"\"\"Purpose is to download a file from a given URL\n",
    "    Parameters :\n",
    "    str raw_url : URL to fetch\n",
    "    str save_path : Path where to save the file\"\"\"\n",
    "    \n",
    "    cleaned_url = clean_url(raw_url)\n",
    "    \n",
    "    filename = cleaned_url.split('/')[-1]\n",
    "    if 'file=' in filename :\n",
    "        filename = filename.split('file=')[-1]\n",
    "        \n",
    "    filepath = save_path + filename\n",
    "    \n",
    "    with requests.get(cleaned_url, stream=True, verify=False) as r:\n",
    "        r.raise_for_status()\n",
    "        with open(filepath, 'wb') as f:\n",
    "            for chunk in r.iter_content(chunk_size=8192): \n",
    "                f.write(chunk)\n",
    "        \n",
    "    if filename.split('.')[-1] == 'gz':\n",
    "        with gzip.open(filepath, 'rb') as f_in :\n",
    "            uncompressed_filename = '.'.join(filename.split('.')[:-1])\n",
    "            uncompressed_filepath = save_path + uncompressed_filename\n",
    "            with open(uncompressed_filepath, 'wb') as f_out :\n",
    "                shutil.copyfileobj(f_in, f_out)"
   ]
  },
  {
   "cell_type": "code",
   "execution_count": 6,
   "metadata": {},
   "outputs": [],
   "source": [
    "gse70138_url = \"https://ftp.ncbi.nlm.nih.gov/geo/series/GSE70nnn/GSE70138/suppl/\"\n",
    "#https://ftp.ncbi.nlm.nih.gov/geo/series/GSE70nnn/GSE70138/suppl/GSE70138%5FBroad%5FLINCS%5Fcell%5Finfo%5F2017%2D04%2D28%2Etxt%2Egz"
   ]
  },
  {
   "cell_type": "code",
   "execution_count": 16,
   "metadata": {},
   "outputs": [],
   "source": [
    "gse70138_cell_info_url = gse70138_url + \"GSE70138_Broad_LINCS_cell_info_2017-04-28.txt.gz\"\n",
    "download_uncompressed_file(gse70138_cell_info_url, raw_data_directory)"
   ]
  },
  {
   "cell_type": "code",
   "execution_count": 7,
   "metadata": {},
   "outputs": [],
   "source": [
    "gse70138_gene_info_url = gse70138_url + \"GSE70138_Broad_LINCS_gene_info_2017-03-06.txt.gz\"\n",
    "download_uncompressed_file(gse70138_gene_info_url, raw_data_directory)"
   ]
  },
  {
   "cell_type": "code",
   "execution_count": 8,
   "metadata": {},
   "outputs": [],
   "source": [
    "gse70138_pert_info_url = gse70138_url + \"GSE70138_Broad_LINCS_pert_info.txt.gz\"\n",
    "download_uncompressed_file(gse70138_pert_info_url, raw_data_directory)"
   ]
  },
  {
   "cell_type": "code",
   "execution_count": 9,
   "metadata": {},
   "outputs": [],
   "source": [
    "gse70138_sig_info_url = gse70138_url + \"GSE70138_Broad_LINCS_sig_info_2017-03-06.txt.gz\"\n",
    "download_uncompressed_file(gse70138_sig_info_url, raw_data_directory)"
   ]
  },
  {
   "cell_type": "code",
   "execution_count": 10,
   "metadata": {},
   "outputs": [],
   "source": [
    "gse70138_signatures_url = gse70138_url + \"GSE70138_Broad_LINCS_Level5_COMPZ_n118050x12328_2017-03-06.gctx.gz\"\n",
    "download_uncompressed_file(gse70138_signatures_url, raw_data_directory)"
   ]
  },
  {
   "cell_type": "code",
   "execution_count": 11,
   "metadata": {},
   "outputs": [],
   "source": [
    "gse92742_url = 'https://ftp.ncbi.nlm.nih.gov/geo/series/gse92nnn/gse92742/suppl/'"
   ]
  },
  {
   "cell_type": "code",
   "execution_count": 12,
   "metadata": {},
   "outputs": [],
   "source": [
    "gse92742_cell_info_url = gse92742_url + \"GSE92742_Broad_LINCS_cell_info.txt.gz\"\n",
    "download_uncompressed_file(gse92742_cell_info_url, raw_data_directory)"
   ]
  },
  {
   "cell_type": "code",
   "execution_count": 13,
   "metadata": {},
   "outputs": [],
   "source": [
    "gse92742_gene_info_url = gse92742_url + \"GSE92742_Broad_LINCS_gene_info.txt.gz\"\n",
    "download_uncompressed_file(gse92742_gene_info_url, raw_data_directory)"
   ]
  },
  {
   "cell_type": "code",
   "execution_count": 14,
   "metadata": {},
   "outputs": [],
   "source": [
    "gse92742_pert_info_url = gse92742_url + \"GSE92742_Broad_LINCS_pert_info.txt.gz\"\n",
    "download_uncompressed_file(gse92742_pert_info_url, raw_data_directory)"
   ]
  },
  {
   "cell_type": "code",
   "execution_count": 15,
   "metadata": {},
   "outputs": [],
   "source": [
    "gse92742_sig_info_url = gse92742_url + \"GSE92742_Broad_LINCS_sig_info.txt.gz\"\n",
    "download_uncompressed_file(gse92742_sig_info_url, raw_data_directory)"
   ]
  },
  {
   "cell_type": "code",
   "execution_count": 16,
   "metadata": {},
   "outputs": [],
   "source": [
    "gse92742_signatures_url = gse92742_url + \"GSE92742_Broad_LINCS_Level5_COMPZ.MODZ_n473647x12328.gctx.gz\"\n",
    "download_uncompressed_file(gse92742_signatures_url, raw_data_directory)"
   ]
  },
  {
   "cell_type": "code",
   "execution_count": 6,
   "metadata": {},
   "outputs": [
    {
     "name": "stderr",
     "output_type": "stream",
     "text": [
      "C:\\Users\\Ben\\anaconda3\\lib\\site-packages\\urllib3\\connectionpool.py:1004: InsecureRequestWarning: Unverified HTTPS request is being made to host 'cluster.hpcc.ucr.edu'. Adding certificate verification is strongly advised. See: https://urllib3.readthedocs.io/en/latest/advanced-usage.html#ssl-warnings\n",
      "  InsecureRequestWarning,\n"
     ]
    }
   ],
   "source": [
    "pubchem_sqlite_url = \"https://cluster.hpcc.ucr.edu/~tbackman/bioassayR/pubchem_protein_only.sqlite\"\n",
    "download_uncompressed_file(pubchem_sqlite_url, raw_data_directory)"
   ]
  },
  {
   "cell_type": "code",
   "execution_count": 31,
   "metadata": {},
   "outputs": [],
   "source": [
    "lincs_compound_info_url = \"http://lincsportal.ccs.miami.edu/dcic/api/download?path=LINCS_Data/Metadata/Small_Molecules/2018_02_20&file=CompoundTable_LINCS_StandardizedCmpds_LSMIDs.txt\"\n",
    "download_uncompressed_file(LINCS_compound_info_url, raw_data_directory)"
   ]
  },
  {
   "cell_type": "code",
   "execution_count": 32,
   "metadata": {},
   "outputs": [],
   "source": [
    "cmap_to_lincs_mapping_url = \"http://lincsportal.ccs.miami.edu/dcic/api/download?path=LINCS_Data/Metadata/Small_Molecules/2018_02_20&file=LincsID2FacilityID_LINCS_StandardizedCmpds_LSMIDs.txt\"\n",
    "download_uncompressed_file(cmap_to_lincs_mapping_url, raw_data_directory)"
   ]
  },
  {
   "cell_type": "code",
   "execution_count": 33,
   "metadata": {},
   "outputs": [],
   "source": [
    "drug_repurposing_hub_url = \"https://s3.amazonaws.com/data.clue.io/repurposing/downloads/repurposing_drugs_20180907.txt\"\n",
    "download_uncompressed_file(drug_repurposing_hub_url, raw_data_directory)"
   ]
  }
 ],
 "metadata": {
  "kernelspec": {
   "display_name": "Python 3",
   "language": "python",
   "name": "python3"
  },
  "language_info": {
   "codemirror_mode": {
    "name": "ipython",
    "version": 3
   },
   "file_extension": ".py",
   "mimetype": "text/x-python",
   "name": "python",
   "nbconvert_exporter": "python",
   "pygments_lexer": "ipython3",
   "version": "3.7.6"
  }
 },
 "nbformat": 4,
 "nbformat_minor": 4
}
