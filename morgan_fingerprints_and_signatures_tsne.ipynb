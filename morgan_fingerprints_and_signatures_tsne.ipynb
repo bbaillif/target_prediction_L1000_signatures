{
 "cells": [
  {
   "cell_type": "markdown",
   "metadata": {},
   "source": [
    "**Author:** Benoît BAILLIF\n",
    "\n",
    "**Purpose:** Compute t-SNE embedding for Morgan fingerprints and signatures of used compounds\n",
    "\n",
    "**Input:**\n",
    "- data/processed/\n",
    " - cmp_info_cmap : to find used compounds\n",
    " - signatures/ : to find used signatures in each cell lines\n",
    " \n",
    "**Output:** \n",
    "- data/processed/\n",
    " - cell_line_sigs_tsne.csv for each cell line\n",
    " - all_sigs_tsne.csv : one t-SNE for all signatures"
   ]
  },
  {
   "cell_type": "code",
   "execution_count": 16,
   "metadata": {},
   "outputs": [],
   "source": [
    "import numpy as np\n",
    "import pandas as pd\n",
    "import time\n",
    "import os\n",
    "from sklearn.manifold import TSNE\n",
    "from rdkit            import Chem\n",
    "from rdkit.Chem       import AllChem"
   ]
  },
  {
   "cell_type": "markdown",
   "metadata": {},
   "source": [
    "# Input"
   ]
  },
  {
   "cell_type": "code",
   "execution_count": 32,
   "metadata": {},
   "outputs": [],
   "source": [
    "processed_data_directory = 'data/processed/'\n",
    "sig_directory = processed_data_directory + 'signatures/'\n",
    "\n",
    "cmp_info_cmap_file_name = 'cmp_info_cmap.csv'\n",
    "cmp_info_cmap_path = processed_data_directory + cmp_info_cmap_file_name"
   ]
  },
  {
   "cell_type": "markdown",
   "metadata": {},
   "source": [
    "# Output"
   ]
  },
  {
   "cell_type": "code",
   "execution_count": 17,
   "metadata": {},
   "outputs": [],
   "source": [
    "tsne_directory = 'data/processed/tsne/'\n",
    "if not os.path.exists(tsne_directory) :\n",
    "    os.makedirs(tsne_directory)"
   ]
  },
  {
   "cell_type": "code",
   "execution_count": 18,
   "metadata": {},
   "outputs": [],
   "source": [
    "used_compounds_mfp_tsne_path = tsne_directory + 'used_compounds_mfp_tsne.csv'"
   ]
  },
  {
   "cell_type": "markdown",
   "metadata": {},
   "source": [
    "# Main"
   ]
  },
  {
   "cell_type": "markdown",
   "metadata": {},
   "source": [
    "## Compute Morgan fingerprints t-SNE, representing the used chemical space"
   ]
  },
  {
   "cell_type": "code",
   "execution_count": 6,
   "metadata": {},
   "outputs": [
    {
     "name": "stdout",
     "output_type": "stream",
     "text": [
      "(21220, 6)\n"
     ]
    },
    {
     "data": {
      "text/html": [
       "<div>\n",
       "<style scoped>\n",
       "    .dataframe tbody tr th:only-of-type {\n",
       "        vertical-align: middle;\n",
       "    }\n",
       "\n",
       "    .dataframe tbody tr th {\n",
       "        vertical-align: top;\n",
       "    }\n",
       "\n",
       "    .dataframe thead th {\n",
       "        text-align: right;\n",
       "    }\n",
       "</style>\n",
       "<table border=\"1\" class=\"dataframe\">\n",
       "  <thead>\n",
       "    <tr style=\"text-align: right;\">\n",
       "      <th></th>\n",
       "      <th>pert_iname</th>\n",
       "      <th>is_touchstone</th>\n",
       "      <th>inchi_key</th>\n",
       "      <th>canonical_smiles</th>\n",
       "      <th>pubchem_cid</th>\n",
       "      <th>used_compound</th>\n",
       "    </tr>\n",
       "    <tr>\n",
       "      <th>pert_id</th>\n",
       "      <th></th>\n",
       "      <th></th>\n",
       "      <th></th>\n",
       "      <th></th>\n",
       "      <th></th>\n",
       "      <th></th>\n",
       "    </tr>\n",
       "  </thead>\n",
       "  <tbody>\n",
       "    <tr>\n",
       "      <th>BRD-A00100033</th>\n",
       "      <td>nifurtimox</td>\n",
       "      <td>1.0</td>\n",
       "      <td>ARFHIAQFJWUCFH-UHFFFAOYSA-N</td>\n",
       "      <td>CC1CS(=O)(=O)CCN1N=Cc1ccc([N+](=O)[O-])o1</td>\n",
       "      <td>6842999.0</td>\n",
       "      <td>1</td>\n",
       "    </tr>\n",
       "    <tr>\n",
       "      <th>BRD-A00150179</th>\n",
       "      <td>5-hydroxytryptophan</td>\n",
       "      <td>0.0</td>\n",
       "      <td>QSHLMQDRPXXYEE-UHFFFAOYSA-N</td>\n",
       "      <td>NC(Cc1c[nH]c2cccc(O)c12)C(=O)O</td>\n",
       "      <td>589768.0</td>\n",
       "      <td>0</td>\n",
       "    </tr>\n",
       "    <tr>\n",
       "      <th>BRD-A00267231</th>\n",
       "      <td>hemado</td>\n",
       "      <td>1.0</td>\n",
       "      <td>KOCIMZNSNPOGOP-UHFFFAOYSA-N</td>\n",
       "      <td>CCCCC#Cc1nc(NC)c2ncn(C3OC(CO)C(O)C3O)c2n1</td>\n",
       "      <td>4043357.0</td>\n",
       "      <td>1</td>\n",
       "    </tr>\n",
       "    <tr>\n",
       "      <th>BRD-A00420644</th>\n",
       "      <td>SA-3676</td>\n",
       "      <td>0.0</td>\n",
       "      <td>ASCBUEVCEVGOFP-UHFFFAOYSA-N</td>\n",
       "      <td>CCN1c2ccccc2NC2N=C(OC)C(c3ccccc3)C21</td>\n",
       "      <td>2853908.0</td>\n",
       "      <td>1</td>\n",
       "    </tr>\n",
       "    <tr>\n",
       "      <th>BRD-A00474148</th>\n",
       "      <td>BRD-A00474148</td>\n",
       "      <td>0.0</td>\n",
       "      <td>RCGAUPRLRFZAMS-UHFFFAOYSA-N</td>\n",
       "      <td>O=C1Cc2cc([S+](=O)([O-])N3CCN(c4ccc(O)cc4)CC3)...</td>\n",
       "      <td>44825297.0</td>\n",
       "      <td>1</td>\n",
       "    </tr>\n",
       "  </tbody>\n",
       "</table>\n",
       "</div>"
      ],
      "text/plain": [
       "                        pert_iname  is_touchstone  \\\n",
       "pert_id                                             \n",
       "BRD-A00100033           nifurtimox            1.0   \n",
       "BRD-A00150179  5-hydroxytryptophan            0.0   \n",
       "BRD-A00267231               hemado            1.0   \n",
       "BRD-A00420644              SA-3676            0.0   \n",
       "BRD-A00474148        BRD-A00474148            0.0   \n",
       "\n",
       "                                 inchi_key  \\\n",
       "pert_id                                      \n",
       "BRD-A00100033  ARFHIAQFJWUCFH-UHFFFAOYSA-N   \n",
       "BRD-A00150179  QSHLMQDRPXXYEE-UHFFFAOYSA-N   \n",
       "BRD-A00267231  KOCIMZNSNPOGOP-UHFFFAOYSA-N   \n",
       "BRD-A00420644  ASCBUEVCEVGOFP-UHFFFAOYSA-N   \n",
       "BRD-A00474148  RCGAUPRLRFZAMS-UHFFFAOYSA-N   \n",
       "\n",
       "                                                canonical_smiles  pubchem_cid  \\\n",
       "pert_id                                                                         \n",
       "BRD-A00100033          CC1CS(=O)(=O)CCN1N=Cc1ccc([N+](=O)[O-])o1    6842999.0   \n",
       "BRD-A00150179                     NC(Cc1c[nH]c2cccc(O)c12)C(=O)O     589768.0   \n",
       "BRD-A00267231          CCCCC#Cc1nc(NC)c2ncn(C3OC(CO)C(O)C3O)c2n1    4043357.0   \n",
       "BRD-A00420644               CCN1c2ccccc2NC2N=C(OC)C(c3ccccc3)C21    2853908.0   \n",
       "BRD-A00474148  O=C1Cc2cc([S+](=O)([O-])N3CCN(c4ccc(O)cc4)CC3)...   44825297.0   \n",
       "\n",
       "               used_compound  \n",
       "pert_id                       \n",
       "BRD-A00100033              1  \n",
       "BRD-A00150179              0  \n",
       "BRD-A00267231              1  \n",
       "BRD-A00420644              1  \n",
       "BRD-A00474148              1  "
      ]
     },
     "execution_count": 6,
     "metadata": {},
     "output_type": "execute_result"
    }
   ],
   "source": [
    "cmp_info_cmap = pd.read_csv(cmp_info_cmap_path)\n",
    "cmp_info_cmap = cmp_info_cmap.set_index('pert_id')\n",
    "print(cmp_info_cmap.shape)\n",
    "cmp_info_cmap.head()"
   ]
  },
  {
   "cell_type": "code",
   "execution_count": 7,
   "metadata": {},
   "outputs": [],
   "source": [
    "used_cmp_info_cmap = cmp_info_cmap[cmp_info_cmap['used_compound'] == True]"
   ]
  },
  {
   "cell_type": "code",
   "execution_count": 10,
   "metadata": {},
   "outputs": [],
   "source": [
    "molecules = used_cmp_info_cmap['canonical_smiles'].apply(Chem.MolFromSmiles)\n",
    "binary_fps = np.array([list(AllChem.GetMorganFingerprintAsBitVect(mol, radius=3, nBits=1024)) for mol in molecules])"
   ]
  },
  {
   "cell_type": "code",
   "execution_count": 11,
   "metadata": {},
   "outputs": [
    {
     "name": "stdout",
     "output_type": "stream",
     "text": [
      "[t-SNE] Computing 91 nearest neighbors...\n",
      "[t-SNE] Indexed 9035 samples in 1.784s...\n",
      "[t-SNE] Computed neighbors for 9035 samples in 209.951s...\n",
      "[t-SNE] Computed conditional probabilities for sample 1000 / 9035\n",
      "[t-SNE] Computed conditional probabilities for sample 2000 / 9035\n",
      "[t-SNE] Computed conditional probabilities for sample 3000 / 9035\n",
      "[t-SNE] Computed conditional probabilities for sample 4000 / 9035\n",
      "[t-SNE] Computed conditional probabilities for sample 5000 / 9035\n",
      "[t-SNE] Computed conditional probabilities for sample 6000 / 9035\n",
      "[t-SNE] Computed conditional probabilities for sample 7000 / 9035\n",
      "[t-SNE] Computed conditional probabilities for sample 8000 / 9035\n",
      "[t-SNE] Computed conditional probabilities for sample 9000 / 9035\n",
      "[t-SNE] Computed conditional probabilities for sample 9035 / 9035\n",
      "[t-SNE] Mean sigma: 0.242368\n",
      "[t-SNE] KL divergence after 250 iterations with early exaggeration: 93.798813\n",
      "[t-SNE] KL divergence after 1000 iterations: 1.663906\n",
      "t-SNE done! Time elapsed: 240.38520097732544 seconds\n"
     ]
    }
   ],
   "source": [
    "time_start = time.time()\n",
    "fp_tsne = TSNE(random_state=42, metric='dice', verbose=1).fit_transform(binary_fps)\n",
    "print('t-SNE done! Time elapsed: {} seconds'.format(time.time() - time_start))"
   ]
  },
  {
   "cell_type": "code",
   "execution_count": 19,
   "metadata": {},
   "outputs": [],
   "source": [
    "fp_tsne = pd.DataFrame(fp_tsne, index=molecules.index, columns=['Dice_TSNE_1', 'Dice_TSNE_2'])\n",
    "fp_tsne.to_csv(used_compounds_mfp_tsne_path)"
   ]
  },
  {
   "cell_type": "markdown",
   "metadata": {},
   "source": [
    "## Compute the signatures t-SNE, representing the biological spaces"
   ]
  },
  {
   "cell_type": "code",
   "execution_count": 29,
   "metadata": {},
   "outputs": [],
   "source": [
    "cell_lines = ['MCF7', 'HA1E', 'HT29', 'A549', 'HCC515', 'PC3', 'VCAP', 'A375']"
   ]
  },
  {
   "cell_type": "markdown",
   "metadata": {},
   "source": [
    "### One t-SNE per used signatures in a cell line"
   ]
  },
  {
   "cell_type": "code",
   "execution_count": 35,
   "metadata": {},
   "outputs": [
    {
     "name": "stdout",
     "output_type": "stream",
     "text": [
      "Computing MCF7 signatures t-SNE\n",
      "[t-SNE] Computing 91 nearest neighbors...\n",
      "[t-SNE] Indexed 7546 samples in 0.005s...\n",
      "[t-SNE] Computed neighbors for 7546 samples in 1.513s...\n",
      "[t-SNE] Computed conditional probabilities for sample 1000 / 7546\n",
      "[t-SNE] Computed conditional probabilities for sample 2000 / 7546\n",
      "[t-SNE] Computed conditional probabilities for sample 3000 / 7546\n",
      "[t-SNE] Computed conditional probabilities for sample 4000 / 7546\n",
      "[t-SNE] Computed conditional probabilities for sample 5000 / 7546\n",
      "[t-SNE] Computed conditional probabilities for sample 6000 / 7546\n",
      "[t-SNE] Computed conditional probabilities for sample 7000 / 7546\n",
      "[t-SNE] Computed conditional probabilities for sample 7546 / 7546\n",
      "[t-SNE] Mean sigma: 0.156262\n",
      "[t-SNE] KL divergence after 250 iterations with early exaggeration: 90.063797\n",
      "[t-SNE] KL divergence after 1000 iterations: 2.546462\n",
      "t-SNE done! Time elapsed: 25.304924726486206 seconds\n",
      "Computing HA1E signatures t-SNE\n",
      "[t-SNE] Computing 91 nearest neighbors...\n",
      "[t-SNE] Indexed 3646 samples in 0.002s...\n",
      "[t-SNE] Computed neighbors for 3646 samples in 0.418s...\n",
      "[t-SNE] Computed conditional probabilities for sample 1000 / 3646\n",
      "[t-SNE] Computed conditional probabilities for sample 2000 / 3646\n",
      "[t-SNE] Computed conditional probabilities for sample 3000 / 3646\n",
      "[t-SNE] Computed conditional probabilities for sample 3646 / 3646\n",
      "[t-SNE] Mean sigma: 0.163120\n",
      "[t-SNE] KL divergence after 250 iterations with early exaggeration: 82.930771\n",
      "[t-SNE] KL divergence after 1000 iterations: 2.072205\n",
      "t-SNE done! Time elapsed: 12.558055400848389 seconds\n",
      "Computing HT29 signatures t-SNE\n",
      "[t-SNE] Computing 91 nearest neighbors...\n",
      "[t-SNE] Indexed 3192 samples in 0.002s...\n",
      "[t-SNE] Computed neighbors for 3192 samples in 0.295s...\n",
      "[t-SNE] Computed conditional probabilities for sample 1000 / 3192\n",
      "[t-SNE] Computed conditional probabilities for sample 2000 / 3192\n",
      "[t-SNE] Computed conditional probabilities for sample 3000 / 3192\n",
      "[t-SNE] Computed conditional probabilities for sample 3192 / 3192\n",
      "[t-SNE] Mean sigma: 0.166157\n",
      "[t-SNE] KL divergence after 250 iterations with early exaggeration: 82.522751\n",
      "[t-SNE] KL divergence after 1000 iterations: 1.975239\n",
      "t-SNE done! Time elapsed: 10.719876050949097 seconds\n",
      "Computing A549 signatures t-SNE\n",
      "[t-SNE] Computing 91 nearest neighbors...\n",
      "[t-SNE] Indexed 5267 samples in 0.003s...\n",
      "[t-SNE] Computed neighbors for 5267 samples in 0.809s...\n",
      "[t-SNE] Computed conditional probabilities for sample 1000 / 5267\n",
      "[t-SNE] Computed conditional probabilities for sample 2000 / 5267\n",
      "[t-SNE] Computed conditional probabilities for sample 3000 / 5267\n",
      "[t-SNE] Computed conditional probabilities for sample 4000 / 5267\n",
      "[t-SNE] Computed conditional probabilities for sample 5000 / 5267\n",
      "[t-SNE] Computed conditional probabilities for sample 5267 / 5267\n",
      "[t-SNE] Mean sigma: 0.163560\n",
      "[t-SNE] KL divergence after 250 iterations with early exaggeration: 86.394875\n",
      "[t-SNE] KL divergence after 1000 iterations: 2.163063\n",
      "t-SNE done! Time elapsed: 18.32292652130127 seconds\n",
      "Computing HCC515 signatures t-SNE\n",
      "[t-SNE] Computing 91 nearest neighbors...\n",
      "[t-SNE] Indexed 1932 samples in 0.001s...\n",
      "[t-SNE] Computed neighbors for 1932 samples in 0.150s...\n",
      "[t-SNE] Computed conditional probabilities for sample 1000 / 1932\n",
      "[t-SNE] Computed conditional probabilities for sample 1932 / 1932\n",
      "[t-SNE] Mean sigma: 0.178178\n",
      "[t-SNE] KL divergence after 250 iterations with early exaggeration: 78.544815\n",
      "[t-SNE] KL divergence after 1000 iterations: 1.549592\n",
      "t-SNE done! Time elapsed: 5.658992528915405 seconds\n",
      "Computing PC3 signatures t-SNE\n",
      "[t-SNE] Computing 91 nearest neighbors...\n",
      "[t-SNE] Indexed 8071 samples in 0.005s...\n",
      "[t-SNE] Computed neighbors for 8071 samples in 1.992s...\n",
      "[t-SNE] Computed conditional probabilities for sample 1000 / 8071\n",
      "[t-SNE] Computed conditional probabilities for sample 2000 / 8071\n",
      "[t-SNE] Computed conditional probabilities for sample 3000 / 8071\n",
      "[t-SNE] Computed conditional probabilities for sample 4000 / 8071\n",
      "[t-SNE] Computed conditional probabilities for sample 5000 / 8071\n",
      "[t-SNE] Computed conditional probabilities for sample 6000 / 8071\n",
      "[t-SNE] Computed conditional probabilities for sample 7000 / 8071\n",
      "[t-SNE] Computed conditional probabilities for sample 8000 / 8071\n",
      "[t-SNE] Computed conditional probabilities for sample 8071 / 8071\n",
      "[t-SNE] Mean sigma: 0.155363\n",
      "[t-SNE] KL divergence after 250 iterations with early exaggeration: 90.340973\n",
      "[t-SNE] KL divergence after 1000 iterations: 2.532060\n",
      "t-SNE done! Time elapsed: 32.20740985870361 seconds\n",
      "Computing VCAP signatures t-SNE\n",
      "[t-SNE] Computing 91 nearest neighbors...\n",
      "[t-SNE] Indexed 6365 samples in 0.004s...\n",
      "[t-SNE] Computed neighbors for 6365 samples in 1.094s...\n",
      "[t-SNE] Computed conditional probabilities for sample 1000 / 6365\n",
      "[t-SNE] Computed conditional probabilities for sample 2000 / 6365\n",
      "[t-SNE] Computed conditional probabilities for sample 3000 / 6365\n",
      "[t-SNE] Computed conditional probabilities for sample 4000 / 6365\n",
      "[t-SNE] Computed conditional probabilities for sample 5000 / 6365\n",
      "[t-SNE] Computed conditional probabilities for sample 6000 / 6365\n",
      "[t-SNE] Computed conditional probabilities for sample 6365 / 6365\n",
      "[t-SNE] Mean sigma: 0.157953\n",
      "[t-SNE] KL divergence after 250 iterations with early exaggeration: 88.241394\n",
      "[t-SNE] KL divergence after 1000 iterations: 2.380417\n",
      "t-SNE done! Time elapsed: 21.86911416053772 seconds\n",
      "Computing A375 signatures t-SNE\n",
      "[t-SNE] Computing 91 nearest neighbors...\n",
      "[t-SNE] Indexed 3525 samples in 0.003s...\n",
      "[t-SNE] Computed neighbors for 3525 samples in 0.373s...\n",
      "[t-SNE] Computed conditional probabilities for sample 1000 / 3525\n",
      "[t-SNE] Computed conditional probabilities for sample 2000 / 3525\n",
      "[t-SNE] Computed conditional probabilities for sample 3000 / 3525\n",
      "[t-SNE] Computed conditional probabilities for sample 3525 / 3525\n",
      "[t-SNE] Mean sigma: 0.173428\n",
      "[t-SNE] KL divergence after 250 iterations with early exaggeration: 83.544891\n",
      "[t-SNE] KL divergence after 1000 iterations: 1.868949\n",
      "t-SNE done! Time elapsed: 11.280930042266846 seconds\n"
     ]
    }
   ],
   "source": [
    "all_sigs = pd.DataFrame()\n",
    "\n",
    "for cell_line in cell_lines :\n",
    "    print('Computing ' + cell_line + ' signatures t-SNE')\n",
    "        \n",
    "    cell_line_df = pd.read_csv(sig_directory + cell_line + '_used_signatures.csv')\n",
    "    cell_line_df = cell_line_df.set_index('pert_id')\n",
    "        \n",
    "    time_start = time.time()\n",
    "    cell_line_tsne = TSNE(random_state=42, metric='cosine', verbose=1).fit_transform(cell_line_df.values)\n",
    "    print('t-SNE done! Time elapsed: {} seconds'.format(time.time() - time_start))\n",
    "    \n",
    "    tsne_col_1 = 'Cosine_' + cell_line + '_sigs_TSNE_1'\n",
    "    tsne_col_2 = 'Cosine_' + cell_line + '_sigs_TSNE_2'\n",
    "    cell_line_tsne = pd.DataFrame(cell_line_tsne, index=cell_line_df.index, columns = [tsne_col_1, tsne_col_2])\n",
    "\n",
    "    cell_line_tsne.to_csv(tsne_directory + cell_line + '_sigs_tsne.csv')\n",
    "    \n",
    "    cell_line_df['cell_line'] = cell_line\n",
    "    all_sigs = pd.concat([all_sigs, cell_line_df])"
   ]
  },
  {
   "cell_type": "markdown",
   "metadata": {},
   "source": [
    "### One single t-SNE for all used signatures from all cell lines"
   ]
  },
  {
   "cell_type": "code",
   "execution_count": 36,
   "metadata": {},
   "outputs": [
    {
     "name": "stdout",
     "output_type": "stream",
     "text": [
      "[t-SNE] Computing 91 nearest neighbors...\n",
      "[t-SNE] Indexed 39544 samples in 0.023s...\n",
      "[t-SNE] Computed neighbors for 39544 samples in 50.939s...\n",
      "[t-SNE] Computed conditional probabilities for sample 1000 / 39544\n",
      "[t-SNE] Computed conditional probabilities for sample 2000 / 39544\n",
      "[t-SNE] Computed conditional probabilities for sample 3000 / 39544\n",
      "[t-SNE] Computed conditional probabilities for sample 4000 / 39544\n",
      "[t-SNE] Computed conditional probabilities for sample 5000 / 39544\n",
      "[t-SNE] Computed conditional probabilities for sample 6000 / 39544\n",
      "[t-SNE] Computed conditional probabilities for sample 7000 / 39544\n",
      "[t-SNE] Computed conditional probabilities for sample 8000 / 39544\n",
      "[t-SNE] Computed conditional probabilities for sample 9000 / 39544\n",
      "[t-SNE] Computed conditional probabilities for sample 10000 / 39544\n",
      "[t-SNE] Computed conditional probabilities for sample 11000 / 39544\n",
      "[t-SNE] Computed conditional probabilities for sample 12000 / 39544\n",
      "[t-SNE] Computed conditional probabilities for sample 13000 / 39544\n",
      "[t-SNE] Computed conditional probabilities for sample 14000 / 39544\n",
      "[t-SNE] Computed conditional probabilities for sample 15000 / 39544\n",
      "[t-SNE] Computed conditional probabilities for sample 16000 / 39544\n",
      "[t-SNE] Computed conditional probabilities for sample 17000 / 39544\n",
      "[t-SNE] Computed conditional probabilities for sample 18000 / 39544\n",
      "[t-SNE] Computed conditional probabilities for sample 19000 / 39544\n",
      "[t-SNE] Computed conditional probabilities for sample 20000 / 39544\n",
      "[t-SNE] Computed conditional probabilities for sample 21000 / 39544\n",
      "[t-SNE] Computed conditional probabilities for sample 22000 / 39544\n",
      "[t-SNE] Computed conditional probabilities for sample 23000 / 39544\n",
      "[t-SNE] Computed conditional probabilities for sample 24000 / 39544\n",
      "[t-SNE] Computed conditional probabilities for sample 25000 / 39544\n",
      "[t-SNE] Computed conditional probabilities for sample 26000 / 39544\n",
      "[t-SNE] Computed conditional probabilities for sample 27000 / 39544\n",
      "[t-SNE] Computed conditional probabilities for sample 28000 / 39544\n",
      "[t-SNE] Computed conditional probabilities for sample 29000 / 39544\n",
      "[t-SNE] Computed conditional probabilities for sample 30000 / 39544\n",
      "[t-SNE] Computed conditional probabilities for sample 31000 / 39544\n",
      "[t-SNE] Computed conditional probabilities for sample 32000 / 39544\n",
      "[t-SNE] Computed conditional probabilities for sample 33000 / 39544\n",
      "[t-SNE] Computed conditional probabilities for sample 34000 / 39544\n",
      "[t-SNE] Computed conditional probabilities for sample 35000 / 39544\n",
      "[t-SNE] Computed conditional probabilities for sample 36000 / 39544\n",
      "[t-SNE] Computed conditional probabilities for sample 37000 / 39544\n",
      "[t-SNE] Computed conditional probabilities for sample 38000 / 39544\n",
      "[t-SNE] Computed conditional probabilities for sample 39000 / 39544\n",
      "[t-SNE] Computed conditional probabilities for sample 39544 / 39544\n",
      "[t-SNE] Mean sigma: 0.150244\n",
      "[t-SNE] KL divergence after 250 iterations with early exaggeration: 108.149376\n",
      "[t-SNE] KL divergence after 1000 iterations: 3.406472\n",
      "t-SNE done! Time elapsed: 199.82759928703308 seconds\n"
     ]
    },
    {
     "ename": "FileNotFoundError",
     "evalue": "[Errno 2] No such file or directory: 'signatures/sig_tsne.csv'",
     "output_type": "error",
     "traceback": [
      "\u001b[0;31m---------------------------------------------------------------------------\u001b[0m",
      "\u001b[0;31mFileNotFoundError\u001b[0m                         Traceback (most recent call last)",
      "\u001b[0;32m<ipython-input-36-d703c90dd8a9>\u001b[0m in \u001b[0;36m<module>\u001b[0;34m\u001b[0m\n\u001b[1;32m      9\u001b[0m \u001b[0;34m\u001b[0m\u001b[0m\n\u001b[1;32m     10\u001b[0m \u001b[0mall_sigs_tsne\u001b[0m\u001b[0;34m[\u001b[0m\u001b[0;34m'cell_line'\u001b[0m\u001b[0;34m]\u001b[0m \u001b[0;34m=\u001b[0m \u001b[0mall_sigs\u001b[0m\u001b[0;34m[\u001b[0m\u001b[0;34m'cell_line'\u001b[0m\u001b[0;34m]\u001b[0m\u001b[0;34m\u001b[0m\u001b[0;34m\u001b[0m\u001b[0m\n\u001b[0;32m---> 11\u001b[0;31m \u001b[0mall_sigs_tsne\u001b[0m\u001b[0;34m.\u001b[0m\u001b[0mto_csv\u001b[0m\u001b[0;34m(\u001b[0m\u001b[0msig_dir\u001b[0m \u001b[0;34m+\u001b[0m \u001b[0;34m'sig_tsne.csv'\u001b[0m\u001b[0;34m)\u001b[0m\u001b[0;34m\u001b[0m\u001b[0;34m\u001b[0m\u001b[0m\n\u001b[0m",
      "\u001b[0;32m~/anaconda3/lib/python3.7/site-packages/pandas/core/generic.py\u001b[0m in \u001b[0;36mto_csv\u001b[0;34m(self, path_or_buf, sep, na_rep, float_format, columns, header, index, index_label, mode, encoding, compression, quoting, quotechar, line_terminator, chunksize, date_format, doublequote, escapechar, decimal)\u001b[0m\n\u001b[1;32m   3202\u001b[0m             \u001b[0mdecimal\u001b[0m\u001b[0;34m=\u001b[0m\u001b[0mdecimal\u001b[0m\u001b[0;34m,\u001b[0m\u001b[0;34m\u001b[0m\u001b[0;34m\u001b[0m\u001b[0m\n\u001b[1;32m   3203\u001b[0m         )\n\u001b[0;32m-> 3204\u001b[0;31m         \u001b[0mformatter\u001b[0m\u001b[0;34m.\u001b[0m\u001b[0msave\u001b[0m\u001b[0;34m(\u001b[0m\u001b[0;34m)\u001b[0m\u001b[0;34m\u001b[0m\u001b[0;34m\u001b[0m\u001b[0m\n\u001b[0m\u001b[1;32m   3205\u001b[0m \u001b[0;34m\u001b[0m\u001b[0m\n\u001b[1;32m   3206\u001b[0m         \u001b[0;32mif\u001b[0m \u001b[0mpath_or_buf\u001b[0m \u001b[0;32mis\u001b[0m \u001b[0;32mNone\u001b[0m\u001b[0;34m:\u001b[0m\u001b[0;34m\u001b[0m\u001b[0;34m\u001b[0m\u001b[0m\n",
      "\u001b[0;32m~/anaconda3/lib/python3.7/site-packages/pandas/io/formats/csvs.py\u001b[0m in \u001b[0;36msave\u001b[0;34m(self)\u001b[0m\n\u001b[1;32m    186\u001b[0m                 \u001b[0mself\u001b[0m\u001b[0;34m.\u001b[0m\u001b[0mmode\u001b[0m\u001b[0;34m,\u001b[0m\u001b[0;34m\u001b[0m\u001b[0;34m\u001b[0m\u001b[0m\n\u001b[1;32m    187\u001b[0m                 \u001b[0mencoding\u001b[0m\u001b[0;34m=\u001b[0m\u001b[0mself\u001b[0m\u001b[0;34m.\u001b[0m\u001b[0mencoding\u001b[0m\u001b[0;34m,\u001b[0m\u001b[0;34m\u001b[0m\u001b[0;34m\u001b[0m\u001b[0m\n\u001b[0;32m--> 188\u001b[0;31m                 \u001b[0mcompression\u001b[0m\u001b[0;34m=\u001b[0m\u001b[0mdict\u001b[0m\u001b[0;34m(\u001b[0m\u001b[0mself\u001b[0m\u001b[0;34m.\u001b[0m\u001b[0mcompression_args\u001b[0m\u001b[0;34m,\u001b[0m \u001b[0mmethod\u001b[0m\u001b[0;34m=\u001b[0m\u001b[0mself\u001b[0m\u001b[0;34m.\u001b[0m\u001b[0mcompression\u001b[0m\u001b[0;34m)\u001b[0m\u001b[0;34m,\u001b[0m\u001b[0;34m\u001b[0m\u001b[0;34m\u001b[0m\u001b[0m\n\u001b[0m\u001b[1;32m    189\u001b[0m             )\n\u001b[1;32m    190\u001b[0m             \u001b[0mclose\u001b[0m \u001b[0;34m=\u001b[0m \u001b[0;32mTrue\u001b[0m\u001b[0;34m\u001b[0m\u001b[0;34m\u001b[0m\u001b[0m\n",
      "\u001b[0;32m~/anaconda3/lib/python3.7/site-packages/pandas/io/common.py\u001b[0m in \u001b[0;36mget_handle\u001b[0;34m(path_or_buf, mode, encoding, compression, memory_map, is_text)\u001b[0m\n\u001b[1;32m    426\u001b[0m         \u001b[0;32mif\u001b[0m \u001b[0mencoding\u001b[0m\u001b[0;34m:\u001b[0m\u001b[0;34m\u001b[0m\u001b[0;34m\u001b[0m\u001b[0m\n\u001b[1;32m    427\u001b[0m             \u001b[0;31m# Encoding\u001b[0m\u001b[0;34m\u001b[0m\u001b[0;34m\u001b[0m\u001b[0;34m\u001b[0m\u001b[0m\n\u001b[0;32m--> 428\u001b[0;31m             \u001b[0mf\u001b[0m \u001b[0;34m=\u001b[0m \u001b[0mopen\u001b[0m\u001b[0;34m(\u001b[0m\u001b[0mpath_or_buf\u001b[0m\u001b[0;34m,\u001b[0m \u001b[0mmode\u001b[0m\u001b[0;34m,\u001b[0m \u001b[0mencoding\u001b[0m\u001b[0;34m=\u001b[0m\u001b[0mencoding\u001b[0m\u001b[0;34m,\u001b[0m \u001b[0mnewline\u001b[0m\u001b[0;34m=\u001b[0m\u001b[0;34m\"\"\u001b[0m\u001b[0;34m)\u001b[0m\u001b[0;34m\u001b[0m\u001b[0;34m\u001b[0m\u001b[0m\n\u001b[0m\u001b[1;32m    429\u001b[0m         \u001b[0;32melif\u001b[0m \u001b[0mis_text\u001b[0m\u001b[0;34m:\u001b[0m\u001b[0;34m\u001b[0m\u001b[0;34m\u001b[0m\u001b[0m\n\u001b[1;32m    430\u001b[0m             \u001b[0;31m# No explicit encoding\u001b[0m\u001b[0;34m\u001b[0m\u001b[0;34m\u001b[0m\u001b[0;34m\u001b[0m\u001b[0m\n",
      "\u001b[0;31mFileNotFoundError\u001b[0m: [Errno 2] No such file or directory: 'signatures/sig_tsne.csv'"
     ]
    }
   ],
   "source": [
    "time_start = time.time()\n",
    "# -1 to remove the cell line column\n",
    "all_sigs_tsne = TSNE(random_state=42, metric='cosine', verbose=1).fit_transform(all_sigs.iloc[:,:-1].values)\n",
    "print('t-SNE done! Time elapsed: {} seconds'.format(time.time() - time_start))\n",
    "\n",
    "tsne_col_1 = 'Cosine_sigs_TSNE_1'\n",
    "tsne_col_2 = 'Cosine_sigs_TSNE_2'\n",
    "all_sigs_tsne = pd.DataFrame(all_sigs_tsne, index=all_sigs.index, columns = ['sig_TSNE_1', 'sig_TSNE_2'])\n",
    "\n",
    "all_sigs_tsne['cell_line'] = all_sigs['cell_line']\n",
    "all_sigs_tsne.to_csv(tsne_directory + 'all_sigs_tsne.csv')"
   ]
  }
 ],
 "metadata": {
  "kernelspec": {
   "display_name": "Python 3",
   "language": "python",
   "name": "python3"
  },
  "language_info": {
   "codemirror_mode": {
    "name": "ipython",
    "version": 3
   },
   "file_extension": ".py",
   "mimetype": "text/x-python",
   "name": "python",
   "nbconvert_exporter": "python",
   "pygments_lexer": "ipython3",
   "version": "3.7.6"
  }
 },
 "nbformat": 4,
 "nbformat_minor": 2
}
